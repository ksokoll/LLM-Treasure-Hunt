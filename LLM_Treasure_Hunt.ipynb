{
  "nbformat": 4,
  "nbformat_minor": 0,
  "metadata": {
    "colab": {
      "provenance": [],
      "toc_visible": true,
      "authorship_tag": "ABX9TyNy/3RRjgB1msiSaiOujK01",
      "include_colab_link": true
    },
    "kernelspec": {
      "name": "python3",
      "display_name": "Python 3"
    },
    "language_info": {
      "name": "python"
    }
  },
  "cells": [
    {
      "cell_type": "markdown",
      "metadata": {
        "id": "view-in-github",
        "colab_type": "text"
      },
      "source": [
        "<a href=\"https://colab.research.google.com/github/ksokoll/LLM-Treasure-Hunt/blob/main/LLM_Treasure_Hunt.ipynb\" target=\"_parent\"><img src=\"https://colab.research.google.com/assets/colab-badge.svg\" alt=\"Open In Colab\"/></a>"
      ]
    },
    {
      "cell_type": "markdown",
      "source": [
        "# LLM Treasure Hunt: Experiment Overview and goals\n",
        "\n",
        "The goal of this investigation is to create a simple game of low complexity, to study how chatgpt-4o / chatgpt-4o-mini perform in different setups. Goal is a series of iterations to enhance the performance of the system. If a setup proves to improve performance, it gets taken to the next iteration.\n",
        "\n",
        "**Base Setup** The base setup is a single LLM which receives the rules via prompt and is able to move one field at a time.\n",
        "\n",
        "**Setup 1:** Adding a \"Strategy Agent\" to the loop, which should help the movement LLM find the optimal path.\n",
        "\n",
        "**Setup 2:** Changing the prompt from moving one field at a time to a series of movements\n",
        "\n",
        "**Setup 3** Trying different temperatures"
      ],
      "metadata": {
        "id": "FrY6Mpo7pI5o"
      }
    },
    {
      "cell_type": "markdown",
      "source": [
        "# Experimental setup\n",
        "\n",
        "#1. Game rules\n",
        "\n",
        "The experimental setup is the same for each Setup.\n",
        "\n",
        "Game Rules: The treasure hunt will take place in a 5x5 matrix. The starting point will always be [2,2], meaning that there is an equal amount of space around the starting space.\n",
        "\n",
        "Movements are only possible orthogonally (left, right, up, down). The \"treasures\" will be hidden in one of four fields in one corner of the field, determined randomly.\n",
        "\n",
        "A single game lasts until the treasure is found, or until a maximum of 24 turns is reached with a minimum amount of 2 turns to solve the task and a maximum amount of 24 turns. Since the treasure can be in 4 different fields, given the premise of knowing in which quadrant the treasure is based on a correctly solved game 1, the minimum amount of turns to solve has a expected value of 1 + (4/2), where 1 is the minimum movement to the quadrant and a 25% chance per move to hit the treasure in the target quadrant. Since game 1 is a 25% chance per quadrant and at least 8 moves have to be made with 1 turn to move to the first quadrant and 1 further turn to move to the seceond, finding the treasure in game 1 has a expected value of 10 turns.\n",
        "\n",
        "Therefore the expected values for the trials are:\n",
        "[10, 3, 3, 3, 3, 3, 3, 3, 3, 3]\n",
        "with a average of 3,7.\n",
        "\n",
        "A \"trial\" is a sequence of 10 consecutive games. In game 1 there will be no clues about past treasure locations. Beginning from the first found treasure, the LLM will receive hints about past treasure location to enable knownedge transfer.\n",
        "\n",
        "# Experimental Process\n",
        "\n",
        "For each setup 10 trials will be conducted, which means there will be 100 games with 10 eliminations of the knowledge database. The reason is to flatten out variance over the course of the trial.\n",
        "\n",
        "# Prompt Generation\n",
        "\n",
        "The starting prompt was written and iteratively improved by chatgpt 4o over the course of 1000 games. It will stay almost the same for the whole experiment, with slight adjustment for a different movement setup.\n",
        "\n"
      ],
      "metadata": {
        "id": "pqQCHkpe9QO3"
      }
    },
    {
      "cell_type": "markdown",
      "source": [
        "# Summary of the results\n",
        "\n",
        "Summary of the results\n",
        "\n",
        "The experiment provided some interesting insights into how LLMs behave when confronted with the task of independently recognizing patterns and efficiently solving a task of easy complexity.\n",
        "\n",
        "Here are the findings:\n",
        "\n",
        "1. Without additional adaptations, the LLM hardly performed better than if the maze had been solved randomly, even though the prompt was automatically iteratively improved before the experiment started.\n",
        "\n",
        "2. The LLM could not work optimally if a separate API call was triggered for each individual step. Instead, performance improved greatly when it was allowed to plan several moves in advance. This could indicate that the larger context window allowed it to plan more intelligently.\n",
        "\n",
        "3. Using a supporting LLM to help the move_agent with planning did not prove helpful. Performance improved greatly when the LLM was left to its own devices and was only told the last successful coordinates. This may indicate that for simple problems such as this one, it may be more effective not to include too many LLMs in the loop, as they hinder rather than support each other.\n",
        "\n",
        "4. No correlation was found between changes in temperature and the models performance in this task."
      ],
      "metadata": {
        "id": "ySNt7rFP5MoD"
      }
    },
    {
      "cell_type": "markdown",
      "source": [
        "---"
      ],
      "metadata": {
        "id": "7ZOGLlzA7EZJ"
      }
    },
    {
      "cell_type": "markdown",
      "source": [
        "# 1. Init"
      ],
      "metadata": {
        "id": "9ctrtIFiEFWS"
      }
    },
    {
      "cell_type": "code",
      "execution_count": null,
      "metadata": {
        "collapsed": true,
        "id": "PSWsdRQkAXpt"
      },
      "outputs": [],
      "source": [
        "!pip install python-dotenv\n",
        "!pip install instructor\n",
        "!pip install httpx==0.23.0\n",
        "!pip install --upgrade openai"
      ]
    },
    {
      "cell_type": "code",
      "source": [
        "from google.colab import files\n",
        "from google.colab import userdata\n",
        "from dotenv import load_dotenv\n",
        "import os\n",
        "from enum import Enum\n",
        "from pydantic import BaseModel, Field\n",
        "import instructor\n",
        "from openai import OpenAI\n",
        "import openai\n",
        "import matplotlib.pyplot as plt\n",
        "import numpy as np\n",
        "import random"
      ],
      "metadata": {
        "id": "Ajz_fRg6Ad2v"
      },
      "execution_count": null,
      "outputs": []
    },
    {
      "cell_type": "code",
      "source": [
        "# API Key\n",
        "\n",
        "key = userdata.get('OpenAIKey')\n",
        "\n",
        "with open(\".env\", \"w\") as f:\n",
        "    f.write(\n",
        "        f\"OPENAI_API_KEY='{key}'\\n\"\n",
        "    )\n",
        "\n",
        "# Load environment variable\n",
        "load_dotenv()\n",
        "\n",
        "openai_api_key = os.getenv(\"OPENAI_API_KEY\")"
      ],
      "metadata": {
        "id": "Efznk_EdAetX"
      },
      "execution_count": null,
      "outputs": []
    },
    {
      "cell_type": "code",
      "source": [
        "client = instructor.from_openai(OpenAI())"
      ],
      "metadata": {
        "id": "bIlvPf-mCzQy"
      },
      "execution_count": null,
      "outputs": []
    },
    {
      "cell_type": "markdown",
      "source": [
        "# 2. Define Movement Functions"
      ],
      "metadata": {
        "id": "srzFwT9jBVZw"
      }
    },
    {
      "cell_type": "code",
      "source": [
        "class movement(str, Enum):\n",
        "  left = \"left\",\n",
        "  right = \"right\",\n",
        "  up = \"up\",\n",
        "  down = \"down\""
      ],
      "metadata": {
        "id": "eXrufmbeBW54"
      },
      "execution_count": null,
      "outputs": []
    },
    {
      "cell_type": "code",
      "source": [
        "grid_size = 5"
      ],
      "metadata": {
        "id": "2i0C2MbQWHZ3"
      },
      "execution_count": null,
      "outputs": []
    },
    {
      "cell_type": "code",
      "source": [
        "temperature = 0.7"
      ],
      "metadata": {
        "id": "VvG0ToW0E9jh"
      },
      "execution_count": null,
      "outputs": []
    },
    {
      "cell_type": "code",
      "source": [
        "def update_matrix(matrix, position):\n",
        "    # Mark the current position as visited\n",
        "    matrix[position[0], position[1]] = 1\n",
        "    return matrix"
      ],
      "metadata": {
        "id": "TUvPpOjB2DPZ"
      },
      "execution_count": null,
      "outputs": []
    },
    {
      "cell_type": "code",
      "source": [
        "def matrix_to_string(matrix):\n",
        "    return \"\\n\".join([\" \".join(map(str, row)) for row in matrix])"
      ],
      "metadata": {
        "id": "ZNRl6yOY2HOa"
      },
      "execution_count": null,
      "outputs": []
    },
    {
      "cell_type": "code",
      "source": [
        "def llm_movement(query: str, position, tried_positions: str, llm_strategy_hint: str, tried_positions_matrix, verbose):\n",
        "  query = query + f\"Strategy Hint: {llm_strategy_hint};\\n Current position: {position};\\n Already tried positions: \\n{tried_positions}\"\n",
        "  if verbose == 1:\n",
        "    print(query)\n",
        "  try:\n",
        "        reply = client.chat.completions.create(\n",
        "            model=\"gpt-4o-mini\",\n",
        "            response_model=Reply,\n",
        "            temperature = temperature,\n",
        "            max_retries=3,\n",
        "            messages=[\n",
        "                {\n",
        "                    \"role\": \"system\",\n",
        "                    \"content\": systemPrompt\n",
        "                },\n",
        "                {\n",
        "                    \"role\": \"user\",\n",
        "                    \"content\": query\n",
        "                }\n",
        "            ]\n",
        "        )\n",
        "        return reply.category.name\n",
        "  except Exception as e:\n",
        "        return f\"Error: {str(e)}\""
      ],
      "metadata": {
        "id": "ou2SNcAIB5k4"
      },
      "execution_count": null,
      "outputs": []
    },
    {
      "cell_type": "code",
      "source": [
        "def move(direction, position):\n",
        "    if direction == \"down\" and position[0] < 4:  # Raise Y Coordinate, when going up\n",
        "        position[0] += 1\n",
        "    elif direction == \"up\" and position[0] > 0:  # Decrease Y Coordinate, when moving down\n",
        "        position[0] -= 1\n",
        "    elif direction == \"left\" and position[1] > 0:  # Decrease X Coordinate when moving left\n",
        "        position[1] -= 1\n",
        "    elif direction == \"right\" and position[1] < 4:  # Increase X Coordinate when moving right\n",
        "        position[1] += 1\n",
        "    return position"
      ],
      "metadata": {
        "id": "-KnY-zXNTWVv"
      },
      "execution_count": null,
      "outputs": []
    },
    {
      "cell_type": "code",
      "source": [
        "def generate_random_treasure_position(quarter):\n",
        "    if quarter == 0:  # Upper left\n",
        "        x = random.randint(0, 1)\n",
        "        y = random.randint(0, 1)\n",
        "    elif quarter == 1:  # Upper Right\n",
        "        x = random.randint(3, 4)\n",
        "        y = random.randint(0, 1)\n",
        "    elif quarter == 2:  # Bottom Left\n",
        "        x = random.randint(0, 1)\n",
        "        y = random.randint(3, 4)\n",
        "    elif quarter == 3:  # Bottom Right\n",
        "        x = random.randint(3, 4)\n",
        "        y = random.randint(3, 4)\n",
        "\n",
        "    return [x, y]"
      ],
      "metadata": {
        "id": "nRC442gjVy4u"
      },
      "execution_count": null,
      "outputs": []
    },
    {
      "cell_type": "markdown",
      "source": [
        "# 3. Create Agents and System Prompts"
      ],
      "metadata": {
        "id": "nLyZFGwjEN9s"
      }
    },
    {
      "cell_type": "code",
      "source": [
        "class Reply(BaseModel):\n",
        "  content: str = Field(description=\"The answer to the query\")\n",
        "  category: movement = Field(description=\"Correctly assign to the predefined movements.\")"
      ],
      "metadata": {
        "id": "FR9A3f_iB1Um"
      },
      "execution_count": null,
      "outputs": []
    },
    {
      "cell_type": "code",
      "source": [
        "systemPrompt = \"\"\"\n",
        "Your task is to effectively navigate a matrix to uncover a hidden treasure in a treasure hunt game.\n",
        "\n",
        "\"0\" indicates unvisited fields, and \"1\" indicates visited fields. A treasure is hidden in one of these fields. The fields are numbered like a Python matrix, from 0,0 (top left) to 4,4 (bottom right).\n",
        "\n",
        "You start from a defined position with a clue regarding past treasure locations. Your goal is to locate the treasure by recognizing and following the established pattern.\n",
        "\n",
        "Instructions:\n",
        "\n",
        "- Name a movement based on patterns from previous treasures to find the current treasure.\n",
        "- Ensure the movement is contributing a logical sequence of orthogonal movements.\n",
        "- Plan your moves one at a time. After each move, update the matrix and evaluate the next step based on the updated state. Continue until the moves are completed.\n",
        "\n",
        "Priorities (in order of importance):\n",
        "1. Avoid visiting fields which are marked with \"1\".\n",
        "1. Take the fastest path to reach the estimated treasure location based on past treasure locations.\n",
        "2. Respect matrix boundaries.\n",
        "\n",
        "Output your solution as a single movement, such as [\"down\", \"down\", \"right\", ...]. Avoid any extra comments or explanations.\n",
        "\n",
        "\"\"\""
      ],
      "metadata": {
        "id": "VDR3uiwjB2Q_"
      },
      "execution_count": null,
      "outputs": []
    },
    {
      "cell_type": "code",
      "source": [
        "systemPrompt3 = f\"\"\"\n",
        "You are a strategy agent in a treasure hunting game.\n",
        "\n",
        "  Task: Analyze the already visited fields and use the knowledge-database and give a hint to the move_agent, which direcetion would be most appropriate to move to.\n",
        "\n",
        "  Rules: Your movement is restricted within a 5x5 grid, with positions ranging from [x=0,y=0] (top-left) to [x=4,y=4] (bottom-right). You can only move one field at a time.\n",
        "  Moving Down will increase the X value of the current position vice versa, moving right will increase the y value of the current position, vice versa.\n",
        "  Never advise to move in a direction not stated in 'Possible Directions'.\n",
        "\n",
        "  The grid showing visited (1) and unvisited (0) positions is below.\n",
        "\n",
        "  \"\"\""
      ],
      "metadata": {
        "id": "bUKX-yNP9qR5"
      },
      "execution_count": null,
      "outputs": []
    },
    {
      "cell_type": "code",
      "source": [
        "def llm_strategist(knowledge_database_answer: str, tried_positions_matrix, current_position):\n",
        "  query3 = f\"\"\"\n",
        "  Tried positions: {tried_positions_matrix},\\n\n",
        "  Knowledge Database: {knowledge_database_answer},\\n\n",
        "  Current Position: {current_position}\n",
        "  \"\"\"\n",
        "\n",
        "  reply = client.chat.completions.create(\n",
        "            model=\"gpt-4o-mini\",\n",
        "            response_model=Reply,\n",
        "            temperature = temperature,\n",
        "            max_retries=3,\n",
        "            messages=[\n",
        "                {\n",
        "                    \"role\": \"system\",\n",
        "                    \"content\": systemPrompt3\n",
        "                },\n",
        "                {\n",
        "                    \"role\": \"user\",\n",
        "                    \"content\": query3\n",
        "                }\n",
        "            ]\n",
        "        )\n",
        "  return reply.content\n"
      ],
      "metadata": {
        "id": "dwm9QUqg9aRq"
      },
      "execution_count": null,
      "outputs": []
    },
    {
      "cell_type": "code",
      "source": [
        "class Reply2(BaseModel):\n",
        "  content: str = Field(description=\"The answer to the query\")"
      ],
      "metadata": {
        "id": "B7MMF70KNxyo"
      },
      "execution_count": null,
      "outputs": []
    },
    {
      "cell_type": "markdown",
      "source": [
        "# 4. Define Turn Function"
      ],
      "metadata": {
        "id": "RkFbvXY49Yo6"
      }
    },
    {
      "cell_type": "code",
      "source": [
        "def turn(tried_positions_matrix, position, knowledge_database, verbose):\n",
        "\n",
        "    # Conversion of the matrix into a character string\n",
        "    matrix_str = matrix_to_string(tried_positions_matrix)\n",
        "\n",
        "    # Strategy Agent\n",
        "    llm_strategy_hint = llm_strategist(knowledge_database, tried_positions_matrix, position)\n",
        "    #print(f\"LLM Strategy Hint: {llm_strategy_hint}\")\n",
        "\n",
        "    # LLM Movement\n",
        "    llm_order_counts = []\n",
        "    for _ in range(1):\n",
        "      llm_order = llm_movement(\"Which direction to go?; \",position, matrix_str, llm_strategy_hint, tried_positions_matrix, verbose)\n",
        "      llm_order_counts.append(llm_order)\n",
        "    if verbose == 1:\n",
        "      print(llm_order_counts)\n",
        "    llm_order = max(llm_order_counts, key=llm_order_counts.count)\n",
        "\n",
        "    # Move\n",
        "    new_position = move(llm_order, position)\n",
        "\n",
        "    # Update Matrix\n",
        "    tried_positions_matrix = update_matrix(tried_positions_matrix, position)\n",
        "\n",
        "    return tried_positions_matrix, new_position\n"
      ],
      "metadata": {
        "id": "3vfUHYDcVJf7"
      },
      "execution_count": null,
      "outputs": []
    },
    {
      "cell_type": "markdown",
      "source": [
        "#5. Treasure Hunt Loop"
      ],
      "metadata": {
        "id": "fZeTC7WohSSm"
      }
    },
    {
      "cell_type": "code",
      "source": [
        "# Level 1: Trials\n",
        "def trial(trial_iterations, verbose):\n",
        "  # Epoch Starting Variables\n",
        "  iterations = trial_iterations\n",
        "  history_overall = []\n",
        "  knowledge_database = \"\"\n",
        "  attempt_history = []\n",
        "  quarter= random.randint(0,3)\n",
        "\n",
        "  # Level 2: Iterations\n",
        "  for iteration, _ in enumerate(range(iterations)):\n",
        "      treasure_history = []\n",
        "      turn_history = 0\n",
        "      attempts = 24\n",
        "      starting_position = [2,2] # Startposition\n",
        "\n",
        "      # Create random treasure:\n",
        "      position = starting_position\n",
        "      treasure = generate_random_treasure_position(quarter)\n",
        "\n",
        "      # Create a new treasure if it is on starting position to avoid insta-win\n",
        "      while treasure == [2,2]:\n",
        "        treasure = generate_random_treasure_position(quarter)\n",
        "\n",
        "\n",
        "      print(f\"Iteration {iteration}, Treasure Location: {treasure}\")\n",
        "      # Initialisierung der Matrix und Position\n",
        "      tried_positions_matrix = np.zeros((grid_size, grid_size), dtype=int)  # Matrix initialisieren\n",
        "      tried_positions_matrix[2, 2] = 1 # Setze das erste Feld auf besucht\n",
        "\n",
        "      # Level 3: Steps\n",
        "      for index, _ in enumerate(range(attempts), start=1):\n",
        "\n",
        "\n",
        "        # Take turn:\n",
        "        tried_positions_matrix, position = turn(tried_positions_matrix, position, knowledge_database, verbose)\n",
        "        if position == treasure:\n",
        "          print(f\"You found the treasure after {index} movements at position {position}\")\n",
        "          treasure_hunt = f\"Treasure Position: {position}; Movements: {index}\"\n",
        "          treasure_history.append(treasure_hunt)\n",
        "          turn_history = turn_history+index\n",
        "          break\n",
        "\n",
        "      attempt_history.append(index)\n",
        "\n",
        "      history_overall.append(f\"Run {iteration} Treasure History: {treasure_history} ; Run {iteration} Turn-History: {turn_history}; Run {iteration} Knowledge Database: {knowledge_database}\")\n",
        "\n",
        "      knowledge_database = history_overall\n",
        "\n",
        "\n",
        "\n",
        "  return attempt_history"
      ],
      "metadata": {
        "id": "QxXsFsxvaoJg",
        "collapsed": true
      },
      "execution_count": null,
      "outputs": []
    },
    {
      "cell_type": "markdown",
      "source": [
        "---"
      ],
      "metadata": {
        "id": "-v0Cv7Ko8Xdq"
      }
    },
    {
      "cell_type": "markdown",
      "source": [
        "# 6. Evaluation Trials"
      ],
      "metadata": {
        "id": "RS_sziYREttC"
      }
    },
    {
      "cell_type": "markdown",
      "source": [
        "# Baseline Trials to determine the random turns to solve the task"
      ],
      "metadata": {
        "id": "yIO7Y_pFqvcv"
      }
    },
    {
      "cell_type": "code",
      "source": [
        "def turn_baseline(tried_positions_matrix, position):\n",
        "    # Conversion of the matrix into a character string\n",
        "    matrix_str = matrix_to_string(tried_positions_matrix)\n",
        "\n",
        "    # Strategy Agent\n",
        "    print(f\"LLM Strategy Hint: {llm_strategy_hint}\")\n",
        "\n",
        "    # LLM Input\n",
        "    llm_order = random.choice(list(movement)).value\n",
        "    #print(f\"LLM Order: {llm_order}\")\n",
        "\n",
        "    # Movement\n",
        "    new_position = move(llm_order, position)\n",
        "\n",
        "    # Update Matrix\n",
        "    tried_positions_matrix = update_matrix(tried_positions_matrix, position)\n",
        "\n",
        "    return tried_positions_matrix, new_position\n"
      ],
      "metadata": {
        "id": "xLJC70KPrTrH"
      },
      "execution_count": null,
      "outputs": []
    },
    {
      "cell_type": "code",
      "source": [
        "# Level 1: Trials\n",
        "def trial_baseline(trial_iterations):\n",
        "  # Epoch Starting Variables\n",
        "  iterations = trial_iterations\n",
        "  history_overall = []\n",
        "  knowledge_database = \"\"\n",
        "  attempt_history = []\n",
        "  quarter= random.randint(0,3)\n",
        "\n",
        "  # Level 2: Iterations\n",
        "  for iteration, _ in enumerate(range(iterations)):\n",
        "      treasure_history = []\n",
        "      turn_history = 0\n",
        "      attempts = 24\n",
        "      starting_position = [2,2] # Startposition\n",
        "\n",
        "      # Create random treasure:\n",
        "      position = starting_position\n",
        "      treasure = generate_random_treasure_position(quarter)\n",
        "\n",
        "      # Create a new treasure if it is on starting position to avoid insta-win\n",
        "      while treasure == [2,2]:\n",
        "        treasure = generate_random_treasure_position(quarter)\n",
        "\n",
        "\n",
        "      print(f\"Iteration {iteration}, Treasure Location: {treasure}\")\n",
        "      # Initialisierung der Matrix und Position\n",
        "      tried_positions_matrix = np.zeros((grid_size, grid_size), dtype=int)\n",
        "      tried_positions_matrix[2, 2] = 1 # Set first field as visited\n",
        "\n",
        "      # Level 3: Steps\n",
        "      for index, _ in enumerate(range(attempts), start=1):\n",
        "\n",
        "        # Take turn:\n",
        "        tried_positions_matrix, position = turn_baseline(tried_positions_matrix, position)\n",
        "        if position == treasure:\n",
        "          treasure_hunt = f\"Treasure Position: {position}; Movements: {index}\"\n",
        "          treasure_history.append(treasure_hunt)\n",
        "          turn_history = turn_history+index\n",
        "          break\n",
        "\n",
        "        elif index == attempts:\n",
        "          turn_history = turn_history+index\n",
        "          treasure_hunt = f\"Failed to find Treasure due to maximum movements; Movements: {index}\"\n",
        "          treasure_history.append(treasure_hunt)\n",
        "          break\n",
        "\n",
        "      attempt_history.append(index)\n",
        "\n",
        "      history_overall.append(f\"Run {iteration} Treasure History: {treasure_history} ; Run {iteration} Turn-History: {turn_history}; Run {iteration} Knowledge Database: {knowledge_database}\")\n",
        "\n",
        "\n",
        "  return attempt_history"
      ],
      "metadata": {
        "id": "7ncq5VVEquSt"
      },
      "execution_count": null,
      "outputs": []
    },
    {
      "cell_type": "code",
      "source": [
        "baseline_trial_history = []\n",
        "iterations = 1000\n",
        "trials = 300\n",
        "\n",
        "for _ in range(trials):\n",
        "  print(f\"Trial {_}:\")\n",
        "  baseline_trial_history.append(trial_baseline(10))\n",
        "  print(f\"\\n{baseline_trial_history}\")"
      ],
      "metadata": {
        "id": "63EL8SO6tsbu",
        "collapsed": true
      },
      "execution_count": null,
      "outputs": []
    },
    {
      "cell_type": "code",
      "source": [
        "def calculate_row_averages(matrix):\n",
        "    averages = []\n",
        "    for row in matrix:\n",
        "        row_average = sum(row) / len(row)\n",
        "        averages.append(row_average)\n",
        "    return averages"
      ],
      "metadata": {
        "id": "RuGBBeYQ2I10"
      },
      "execution_count": null,
      "outputs": []
    },
    {
      "cell_type": "code",
      "source": [
        "def calculate_list_average(values):\n",
        "    if not values:\n",
        "        return 0\n",
        "    return sum(values) / len(values)"
      ],
      "metadata": {
        "id": "jiGyUN6G2dey"
      },
      "execution_count": null,
      "outputs": []
    },
    {
      "cell_type": "code",
      "source": [
        "calculate_list_average(calculate_row_averages(baseline_trial_history))"
      ],
      "metadata": {
        "id": "XLaGYXJ_2haU",
        "colab": {
          "base_uri": "https://localhost:8080/"
        },
        "outputId": "d8cf75a5-db51-4de6-bf9b-63b673918dc6"
      },
      "execution_count": null,
      "outputs": [
        {
          "output_type": "execute_result",
          "data": {
            "text/plain": [
              "19.340666666666667"
            ]
          },
          "metadata": {},
          "execution_count": 26
        }
      ]
    },
    {
      "cell_type": "markdown",
      "source": [
        "Turns needed to solve the task randomly:\n",
        "**19.34**\n",
        "\n",
        "This value will serve as a base line for the performance of the agentic system. If it can reliably and repeatedly solve the task below these turns, it can be viewed as working."
      ],
      "metadata": {
        "id": "OBCFmMJMboCV"
      }
    },
    {
      "cell_type": "markdown",
      "source": [
        "#Trial Loop Replication and Setup 1: Basic Setup"
      ],
      "metadata": {
        "id": "31MiNszHepTf"
      }
    },
    {
      "cell_type": "markdown",
      "source": [
        "The result of each trial (10 games) will vary even when no parameters are changed.\n",
        "Goal of this chapter is to measure how many trials of 10 games are necessary to get a stable and reproducable result so we minimize variance as a factor.\n",
        "\n",
        "This test is also conducted with Setup 1: The strategy agent, to test the performance.\n",
        "\n",
        "*H0: The move_agent in combination with the strategy_agent perform equally good or worse than the random solving of the task in 19,34 turns.*\n",
        "\n",
        "*H1: The move_agent in combination with the strategy_agent performs at least 7,5% better than randomly solving the task*"
      ],
      "metadata": {
        "id": "nVpMAwFs3yya"
      }
    },
    {
      "cell_type": "code",
      "source": [
        "trial_history = []\n",
        "trial_averages = []\n",
        "iterations = 10\n",
        "trials = 20\n",
        "verbose = 0 # 0 = off, 1 shows detailed progress on Step Level\n",
        "\n",
        "# The temperatures to be tested:\n",
        "temperature_scale = [0.7]\n",
        "\n",
        "for degree in temperature_scale:\n",
        "  temperature = degree\n",
        "  trial_history.append(degree)\n",
        "  trial_averages.append(degree)\n",
        "\n",
        "  for _ in range(trials):\n",
        "    print(f\"Trial {_}:, \\nTemperature: {degree}\")\n",
        "    trial_history.append(trial(iterations, verbose))\n",
        "    print(f\"\\n{trial_history}\")\n"
      ],
      "metadata": {
        "id": "kkOE5eYNUyAn",
        "collapsed": true
      },
      "execution_count": null,
      "outputs": []
    },
    {
      "cell_type": "code",
      "source": [
        "# 10 trials:\n",
        "[0.7, [24, 24, 24, 16, 9, 2, 24, 24, 3, 16], [24, 24, 8, 24, 6, 4, 4, 3, 3, 14], [12, 5, 2, 5, 10, 7, 2, 24, 6, 4], [24, 24, 24, 24, 24, 24, 24, 24, 24, 24], [24, 24, 24, 24, 24, 24, 24, 24, 24, 24], [24, 15, 11, 24, 24, 2, 24, 24, 24, 5], [21, 13, 2, 2, 24, 11, 24, 14, 24, 24], [24, 24, 24, 24, 24, 22, 24, 7, 24, 4], [24, 24, 24, 24, 2, 24, 13, 24, 24, 24], [9, 21, 8, 10, 2, 8, 11, 5, 3, 4]]\n",
        "# 20 more trials:\n",
        "[0.7, [24, 12, 24, 24, 3, 24, 24, 24, 24, 5], [5, 19, 4, 4, 3, 4, 9, 5, 11, 6], [24, 24, 11, 7, 13, 24, 17, 5, 14, 5], [24, 24, 24, 24, 24, 24, 12, 9, 12, 5], [24, 24, 24, 24, 24, 24, 24, 24, 24, 24], [24, 24, 24, 24, 24, 24, 24, 24, 24, 14], [24, 24, 24, 24, 24, 24, 24, 24, 24, 24], [8, 14, 24, 24, 3, 24, 24, 24, 24, 3], [17, 4, 3, 2, 3, 23, 2, 24, 2, 3], [24, 24, 24, 24, 4, 2, 23, 2, 11, 24], [6, 15, 11, 8, 3, 19, 4, 3, 3, 5], [24, 24, 24, 24, 24, 24, 24, 24, 24, 24], [4, 6, 21, 24, 21, 7, 5, 24, 5, 24], [24, 24, 24, 24, 24, 24, 24, 24, 24, 24], [4, 24, 24, 2, 24, 3, 11, 9, 7, 24], [24, 20, 2, 4, 6, 11, 5, 3, 23, 3], [24, 24, 24, 24, 24, 24, 24, 24, 24, 24], [24, 24, 24, 24, 24, 10, 24, 24, 4, 24], [18, 2, 2, 24, 24, 2, 24, 24, 24, 6], [12, 24, 24, 2, 24, 24, 24, 24, 24, 24]]"
      ],
      "metadata": {
        "id": "plrRNUrhBb8z"
      },
      "execution_count": null,
      "outputs": []
    },
    {
      "cell_type": "markdown",
      "source": [
        "# Results Setup 1\n",
        "\n",
        "Results from the test:\n",
        "Average in run 1: 18,14\n",
        "Average in run 2: 18,87\n",
        "Average in run 3: 19,5\n",
        "\n",
        "Average across all 3 runs: 18,84\n",
        "\n",
        "The volatility between the single tests are 7,5% percentage difference, which is moderate and shows a general consistency in the measurements. For the following evaluations, a set of 10 trials over 10 games is performed. However, to exclude performance gains/losses by chance, the 7,5% mark has to be beaten by future adjustments of the systems.\n",
        "\n",
        "The combination of the LLM moving exactely 1 field per call and the strategy-agent helping the move_agent showed a slightly better performance than the random solving of the tasks. (18,84 in comparison to 19,34 turns randomly.\n",
        "\n",
        "The performance gain of 2,58% is however below the volatility threshold of 7,5% set earlier, so the performance gain cannot be attributed to the LLMs.\n",
        "\n",
        "*H0 gets accepted.*\n",
        "*H1 gets rejected*"
      ],
      "metadata": {
        "id": "Kz3qAeeKOacR"
      }
    },
    {
      "cell_type": "markdown",
      "source": [
        "# Setup 2: Optimizing the prompt and movement functions"
      ],
      "metadata": {
        "id": "esjGA1erB3cF"
      }
    },
    {
      "cell_type": "markdown",
      "source": [
        "Until now the model took single steps with each call, which may lead to:\n",
        "- Inefficient Path generation: Though the previous visited coordinates are delivered with each call, resetting the context window with each movement could lead to less efficient route planning.\n",
        "- Inefficient resource use: It took about 10 steps to solve the task, which is not resource efficient\n",
        "- Cumulation of mistakes: With each single step, a mistake cascaded to the next steps. Multiple calls therefore could have increased errors made by the LLM.\n",
        "\n",
        "Idea:\n",
        "Instead of single steps, the LLM should now propose a complete path to a target coordinate, with the same rules as above. This might lead to more coherent and better route planning.\n",
        "\n",
        "Strategy Agent: This agent might be of more help since the move_agent can now plan multiple turns in advance.\n",
        "\n",
        "Therefore the Setup 2 is: Strategy_agent stays, movement of the move_agent is enhanced to a series of movements determinated by the move_agent.\n",
        "\n",
        "*H0(2): Giving the move_agent the possibility to output multiple turns will result in a equally or worse performance of the previous setup (18,84)*\n",
        "\n",
        "*H1(2): The move_agent in combination with the new movement pattern performs at least 7,5% better than the the previous setup*\n"
      ],
      "metadata": {
        "id": "MAtxdXObCZA8"
      }
    },
    {
      "cell_type": "code",
      "source": [
        "import re\n",
        "from typing import List\n",
        "\n",
        "# Instructor will make sure to receive only\n",
        "class PathSchema(str):\n",
        "    Coordinates: List[str]"
      ],
      "metadata": {
        "id": "VV5FcS49B85X"
      },
      "execution_count": null,
      "outputs": []
    },
    {
      "cell_type": "markdown",
      "source": [
        "Rewrite Turn function:"
      ],
      "metadata": {
        "id": "W-p5TyN0FBFV"
      }
    },
    {
      "cell_type": "code",
      "source": [
        "class Reply_2(BaseModel):\n",
        "  content: str = Field(description=\"The answer to the query\")"
      ],
      "metadata": {
        "id": "PiA1mw4oFfb7"
      },
      "execution_count": null,
      "outputs": []
    },
    {
      "cell_type": "code",
      "source": [
        "# Level 1: Trials\n",
        "def trial_2(trial_iterations, verbose):\n",
        "  # Epoch Starting Variables\n",
        "  iterations = trial_iterations\n",
        "  history_overall = []\n",
        "  knowledge_database = \"\"\n",
        "  attempt_history = []\n",
        "  quarter= random.randint(0,3)\n",
        "\n",
        "  # Level 2: Iterations\n",
        "  for iteration, _ in enumerate(range(iterations)):\n",
        "      treasure_history = []\n",
        "      turn_history = 0\n",
        "      attempts = 24\n",
        "      starting_position = [2,2] # Startposition\n",
        "\n",
        "      # Create random treasure:\n",
        "      position = starting_position\n",
        "      treasure = generate_random_treasure_position(quarter)\n",
        "\n",
        "      # Create a new treasure if it is on starting position to avoid insta-win\n",
        "      while treasure == [2,2]:\n",
        "        treasure = generate_random_treasure_position(quarter)\n",
        "\n",
        "\n",
        "      #print(f\"Iteration {iteration}, Treasure Location: {treasure}\")\n",
        "      # Initialisierung der Matrix und Position\n",
        "      tried_positions_matrix = np.zeros((grid_size, grid_size), dtype=int)\n",
        "      tried_positions_matrix[2, 2] = 1 # Set first field to visited\n",
        "\n",
        "      dead_end = False\n",
        "\n",
        "      treasure_found = False\n",
        "\n",
        "      # Level 3: Steps\n",
        "      for index, _ in enumerate(range(attempts), start=1):\n",
        "\n",
        "        #print(knowledge_database)\n",
        "\n",
        "        # Before move call, check for game win\n",
        "        if treasure_found:\n",
        "          #print(f\"You found the treasure after {index} movements at position {position}\")\n",
        "          treasure_hunt = f\"Treasure Position: {position}; Movements: {index}\"\n",
        "          treasure_history.append(treasure_hunt)\n",
        "          #print(treasure_hunt)\n",
        "          turn_history = turn_history+index\n",
        "          knowledge_database = knowledge_database + f\"{position},\"\n",
        "          break\n",
        "\n",
        "        # Strategy Agent\n",
        "        #llm_strategy_hint = llm_strategist(knowledge_database, tried_positions_matrix, position)\n",
        "        llm_strategy_hint = knowledge_database\n",
        "\n",
        "        llm_order = llm_movement(\"Which path to go?; \",position, llm_strategy_hint, tried_positions_matrix, verbose)\n",
        "\n",
        "        if verbose == 1:\n",
        "          print(llm_order)\n",
        "\n",
        "        # Bewegung durchführen\n",
        "        pattern = r\"\\b(up|down|left|right)\\b\"\n",
        "        matches = re.findall(pattern, llm_order)\n",
        "\n",
        "        for movement in matches:\n",
        "            # If movements left, take turn:\n",
        "            tried_positions_matrix, position = turn_2(movement, tried_positions_matrix, position, knowledge_database, verbose)\n",
        "            if position == treasure:\n",
        "              treasure_found = True\n",
        "              break\n",
        "\n",
        "      attempt_history.append(index)\n",
        "\n",
        "      history_overall.append(f\"Run {iteration} Treasure History: {treasure_history} ; Run {iteration} Turn-History: {turn_history}; Run {iteration} Knowledge Database: {knowledge_database}\")\n",
        "\n",
        "\n",
        "  return attempt_history"
      ],
      "metadata": {
        "id": "RQqqbouTLZqA"
      },
      "execution_count": null,
      "outputs": []
    },
    {
      "cell_type": "code",
      "source": [
        "systemPrompt_2 = \"\"\"\n",
        "Task:\n",
        "Your task is to suggest a route that will lead you to your destination in a treasure hunt game.\n",
        "\n",
        "Imagine a matrix that looks something like this:\n",
        "\n",
        "00000\n",
        "00100\n",
        "00000\n",
        "\n",
        "Where “0” represents unvisited fields and “1” represents visited fields. A treasure is hidden in one of the fields.\n",
        "The fields are numbered like a python matrix, from 0,0 (top left) to 4,4 (bottom right).\n",
        "\n",
        "You start at a given position, a hint where previous treasures have been found, and your goal is to find the treasure at its hidden location, which is following this pattern.\n",
        "\n",
        "Please suggest a series of movements based on the pattern derived from previous found treasures (using \"up\", \"down\", \"left\", \"right\") that will take you from your current position to the treasure, avoiding visited fields marked as \"1\".\n",
        "\n",
        "Please notice:\n",
        "\n",
        "It is important that the movements form a complete path, meaning you should suggest a sequence of orthogonal movements (not just a single step) to reach the destination.\n",
        "\n",
        "Your answer should be a list of movements, e.g., [\"down\", \"down\", \"right\", \"right\"]. No further comments or explanations.\n",
        "\n",
        "Make sure the movements respect the matrix boundaries and avoid revisiting previously visited fields.\n",
        "\n",
        "\"\"\""
      ],
      "metadata": {
        "id": "9KFQrrTPFkc9"
      },
      "execution_count": null,
      "outputs": []
    },
    {
      "cell_type": "code",
      "source": [
        "def llm_movement(query: str, position, llm_strategy_hint: str, tried_positions_matrix, verbose):\n",
        "\n",
        "  position_tuple = tuple(position)  # Convert the list into a tuple\n",
        "\n",
        "  # Generate the movement directions based on the current position and the matrix\n",
        "\n",
        "  query = query + f\"Locations of past treasures: {llm_strategy_hint};\\n Current position: {position}; Tried positions: \\n{tried_positions_matrix})\"\n",
        "  if verbose == 1:\n",
        "    print(query)\n",
        "  try:\n",
        "        reply = client.chat.completions.create(\n",
        "            model=\"gpt-4o-mini\",\n",
        "            response_model=Reply_2,\n",
        "            temperature = temperature,\n",
        "            max_retries=3,\n",
        "            messages=[\n",
        "                {\n",
        "                    \"role\": \"system\",\n",
        "                    \"content\": systemPrompt_2\n",
        "                },\n",
        "                {\n",
        "                    \"role\": \"user\",\n",
        "                    \"content\": query\n",
        "                }\n",
        "            ]\n",
        "        )\n",
        "        #print(f\"LLM Movement Thoughts: {reply.content}\")\n",
        "        return reply.content\n",
        "  except Exception as e:\n",
        "        return f\"Error: {str(e)}\""
      ],
      "metadata": {
        "id": "9V8CFA-lGmOf"
      },
      "execution_count": null,
      "outputs": []
    },
    {
      "cell_type": "code",
      "source": [
        "def turn_2(movement, tried_positions_matrix, position, knowledge_database, verbose):\n",
        "\n",
        "  new_position = position\n",
        "  new_position = move(movement, position)\n",
        "  #print(f\"New Position: {new_position}\")\n",
        "\n",
        "  # Update Matrix\n",
        "  tried_positions_matrix = update_matrix(tried_positions_matrix, position)\n",
        "\n",
        "  return tried_positions_matrix, new_position\n"
      ],
      "metadata": {
        "id": "wz7wrKjqFDMv"
      },
      "execution_count": null,
      "outputs": []
    },
    {
      "cell_type": "code",
      "source": [
        "trial_history = []\n",
        "trial_averages = []\n",
        "iterations = 10\n",
        "trials = 10\n",
        "verbose = 0 # 0 = off, 1 shows detailed progress on Step Level\n",
        "\n",
        "# The temperatures to be tested:\n",
        "temperature_scale = [1.5]\n",
        "\n",
        "for degree in temperature_scale:\n",
        "  temperature = degree\n",
        "  trial_history.append(degree)\n",
        "  trial_averages.append(degree)\n",
        "\n",
        "  for _ in range(trials):\n",
        "    print(f\"Trial {_}:, \\nTemperature: {degree}\")\n",
        "    trial_history.append(trial_2(iterations, verbose))\n",
        "    print(f\"\\n{trial_history}\")\n"
      ],
      "metadata": {
        "id": "rh1QnsH9KqXY",
        "collapsed": true
      },
      "execution_count": null,
      "outputs": []
    },
    {
      "cell_type": "code",
      "source": [
        "# Setup 2: [0.7, [24, 2, 24, 24, 24, 22, 24, 24, 24, 24], [2, 3, 6, 10, 13, 5, 8, 18, 3, 6], [16, 5, 4, 2, 13, 8, 4, 4, 11, 19], [13, 19, 3, 4, 2, 9, 6, 24, 22, 8], [10, 24, 2, 24, 10, 24, 16, 11, 22, 13], [24, 10, 5, 21, 24, 7, 4, 10, 17, 9], [3, 22, 24, 10, 19, 24, 2, 2, 2, 7], [5, 9, 5, 24, 21, 24, 21, 22, 7, 12], [8, 9, 7, 2, 24, 14, 19, 17, 24, 5], [4, 7, 15, 18, 3, 24, 10, 6, 2, 5]]"
      ],
      "metadata": {
        "id": "WF__psmep3ZY"
      },
      "execution_count": null,
      "outputs": []
    },
    {
      "cell_type": "markdown",
      "source": [
        "# Results Setup 2:\n",
        "\n",
        "Average turns: 12,84\n",
        "\n",
        "The change of the output of the move_agent seemed to have a high impact on the ability of the LLM to solve the task. A reason might be that the LLM can process a more complex path and apply better reasoning when it can plan through multiple steps, and follow the advise of the strategy_agent better."
      ],
      "metadata": {
        "id": "5QbG0CVsGrS3"
      }
    },
    {
      "cell_type": "markdown",
      "source": [
        "# Setup 3: Extending the movements in the context window\n",
        "\n",
        "Instead of the strategy_agent the move_agent will only receive a list of the positions of previously found treasures. Since this task is relatively simple, too many LLMs could interfere each other rather then enhancing.\n",
        "\n",
        "H0(3): Replacing the strategy_agent with the history of previous found treasures will result in an equal or worse performance than the average turns of Setup 2 (12,84).\n",
        "\n",
        "H1(3): The replacement will lead to a at least 7,5% better performance then with the strategy_agenet"
      ],
      "metadata": {
        "id": "C3waJoynmoHS"
      }
    },
    {
      "cell_type": "code",
      "source": [
        "# Results with Setup 3:\n",
        "[0.7, [14, 4, 7, 6, 7, 5, 4, 7, 5, 2], [5, 5, 10, 5, 2, 2, 10, 7, 3, 3], [13, 2, 12, 5, 5, 8, 6, 4, 13, 2], [3, 10, 4, 2, 2, 4, 5, 6, 2, 2], [4, 2, 10, 2, 2, 5, 2, 2, 2, 5], [7, 2, 3, 4, 14, 5, 2, 2, 2, 2], [3, 5, 2, 5, 4, 3, 2, 9, 6, 5], [19, 6, 2, 8, 19, 6, 3, 2, 3, 2], [4, 2, 4, 9, 2, 5, 2, 2, 2, 14], [2, 2, 2, 2, 4, 2, 5, 3, 2, 4]]"
      ],
      "metadata": {
        "id": "4agpE6sXxK5A"
      },
      "execution_count": null,
      "outputs": []
    },
    {
      "cell_type": "markdown",
      "source": [
        "# Results Setup 3:\n",
        "\n",
        "Average turns: 4,76\n",
        "\n",
        "The LLM could solve the task in 4,76 turns on average. Thats a massive performance boost in comparison to the 12,84 turns of the previous setup (62,93% better performance) and even 75,38% better than solving the task at random.\n",
        "What stands out is that there is not a single game with 24 turns, meaning the LLM did follow the instructions in the prompt as well as the previous treasure locations reliably.\n",
        "\n",
        "Also 4,76 is relatively near to the minimum amount of turns possible which is 3,7.\n",
        "\n",
        "H0(3) gets rejected."
      ],
      "metadata": {
        "id": "zZQXbPOVxNjB"
      }
    },
    {
      "cell_type": "markdown",
      "source": [
        "# Setup 4: Measuring performance under different temperatures\n",
        "\n",
        "The results at temperature 0.7 are already good. Since the task takes some creativity to solve, the assumption lies near that warmer temperatures result in a better performance than the colder ones.\n",
        "\n",
        "H0(4): Temperatures > 0.7 average in a equally good or worse performance than the average values <= 0.7.\n",
        "\n",
        "H1(4): There a performance increase of at lease 7,5% in the performance of the model when using temperature  > 7. comparing to the average temperatures of <= 0,7."
      ],
      "metadata": {
        "id": "Gl3nJ3qQyQ3H"
      }
    },
    {
      "cell_type": "code",
      "source": [
        "Setup 4:\n",
        "[0, [24, 4, 2, 3, 2, 24, 3, 3, 4, 3], [19, 2, 4, 2, 2, 4, 13, 3, 2, 2], [3, 2, 7, 2, 2, 2, 3, 2, 3, 6], [24, 5, 6, 2, 2, 3, 2, 2, 2, 2], [3, 2, 3, 3, 2, 3, 2, 2, 2, 2], [6, 2, 2, 2, 2, 2, 6, 8, 2, 2], [4, 2, 2, 3, 4, 3, 3, 18, 4, 7], [3, 2, 2, 2, 3, 2, 2, 2, 2, 2], [3, 2, 2, 3, 2, 5, 4, 2, 2, 2], [5, 2, 3, 2, 2, 3, 2, 2, 2, 2], 0.1, [24, 19, 4, 22, 4, 3, 4, 8, 3, 3], [2, 9, 2, 8, 2, 3, 2, 2, 2, 3], [4, 3, 3, 11, 3, 9, 2, 2, 3, 4], [2, 3, 2, 2, 3, 24, 3, 2, 3, 2], [3, 2, 4, 6, 2, 7, 18, 3, 2, 2], [24, 20, 2, 12, 5, 10, 15, 4, 6, 4], [5, 7, 2, 3, 2, 2, 2, 2, 5, 2], [4, 2, 24, 5, 24, 14, 2, 3, 2, 2], [3, 4, 7, 2, 2, 24, 24, 2, 5, 2], [12, 2, 4, 2, 24, 2, 20, 3, 20, 3], 0.2, [8, 15, 2, 5, 2, 2, 2, 3, 2, 2], [6, 5, 3, 2, 3, 6, 2, 3, 2, 2], [8, 2, 2, 15, 5, 3, 4, 23, 4, 24], [24, 12, 5, 6, 2, 2, 2, 2, 2, 3], [5, 10, 2, 2, 2, 5, 2, 2, 2, 2], [5, 3, 2, 3, 2, 2, 3, 2, 2, 8], [3, 3, 2, 3, 3, 8, 2, 2, 2, 2], [15, 2, 2, 3, 5, 2, 4, 2, 2, 2], [4, 2, 14, 9, 2, 2, 5, 2, 3, 8], [11, 2, 4, 3, 2, 3, 7, 2, 2, 3], 0.3, [13, 6, 3, 7, 2, 3, 6, 4, 2, 4], [3, 6, 2, 2, 2, 3, 3, 5, 5, 2], [2, 2, 2, 4, 6, 2, 2, 3, 2, 2], [6, 4, 2, 2, 2, 3, 2, 2, 2, 2], [7, 3, 2, 2, 2, 2, 3, 2, 2, 6], [24, 12, 4, 8, 2, 2, 11, 2, 2, 2], [3, 3, 2, 2, 2, 2, 2, 2, 2, 3], [3, 2, 2, 2, 8, 3, 2, 9, 2, 2], [3, 8, 9, 3, 6, 2, 2, 2, 7, 2], [6, 2, 2, 2, 2, 3, 2, 3, 2, 2], 0.4, [21, 3, 7, 4, 2, 3, 2, 2, 3, 5], [2, 2, 3, 2, 3, 2, 2, 2, 2, 2], [2, 4, 2, 7, 2, 2, 2, 2, 5, 5], [24, 24, 2, 3, 2, 3, 4, 2, 2, 3], [4, 2, 3, 6, 6, 8, 12, 3, 3, 4], [6, 5, 5, 2, 6, 2, 5, 2, 3, 5], [2, 2, 2, 2, 3, 3, 3, 2, 2, 2], [3, 2, 2, 3, 4, 2, 4, 2, 3, 4], [24, 7, 2, 7, 8, 24, 5, 4, 4, 4], [7, 3, 2, 2, 2, 10, 4, 2, 2, 2], 0.5, [6, 24, 2, 2, 8, 5, 3, 6, 2, 5], [2, 2, 2, 6, 2, 3, 2, 9, 2, 10], [2, 2, 2, 2, 3, 4, 24, 2, 3, 2], [9, 8, 10, 2, 8, 2, 4, 7, 7, 2], [2, 2, 6, 2, 5, 4, 2, 2, 6, 4], [3, 14, 2, 2, 6, 2, 5, 5, 2, 2], [3, 2, 2, 2, 2, 4, 2, 2, 2, 3], [4, 20, 17, 24, 2, 15, 5, 3, 2, 2], [3, 4, 2, 24, 6, 3, 5, 24, 6, 2], [7, 6, 2, 7, 2, 2, 2, 11, 3, 2], 0.6, [24, 6, 4, 11, 2, 3, 10, 2, 4, 2], [2, 8, 4, 2, 4, 2, 3, 2, 2, 2], [24, 24, 24, 6, 2, 2, 3, 2, 2, 2], [11, 11, 15, 2, 2, 3, 2, 3, 3, 7], [3, 4, 2, 2, 2, 5, 2, 2, 2, 2], [6, 3, 2, 2, 2, 2, 2, 5, 3, 2], [5, 4, 6, 2, 2, 2, 3, 5, 2, 5], [7, 3, 24, 5, 2, 4, 2, 2, 2, 2], [24, 4, 2, 12, 2, 2, 2, 2, 2, 2], [7, 6, 3, 8, 4, 3, 2, 2, 2, 2], 0.7, [2, 2, 3, 3, 9, 2, 3, 6, 2, 3], [4, 6, 2, 2, 5, 4, 2, 3, 15, 2], [8, 3, 3, 3, 5, 3, 4, 3, 2, 2], [24, 5, 2, 2, 12, 16, 24, 3, 6, 9], [3, 2, 2, 2, 2, 2, 2, 2, 2, 2], [2, 2, 2, 2, 4, 20, 2, 2, 4, 7], [14, 11, 5, 2, 4, 2, 4, 2, 4, 2], [4, 6, 3, 2, 3, 2, 5, 6, 2, 2], [3, 8, 3, 3, 3, 5, 2, 5, 2, 3], [10, 2, 2, 2, 3, 2, 3, 5, 2, 2], 0.8, [4, 5, 6, 6, 2, 4, 5, 2, 7, 2], [7, 2, 3, 5, 2, 3, 2, 2, 6, 5], [24, 4, 13, 5, 12, 20, 9, 5, 5, 9], [3, 2, 3, 2, 5, 2, 3, 2, 2, 2], [3, 2, 2, 4, 2, 5, 2, 3, 2, 2], [3, 3, 2, 2, 3, 4, 3, 8, 2, 6], [5, 2, 7, 5, 2, 8, 24, 20, 2, 2], [8, 7, 2, 2, 3, 6, 2, 6, 4, 2], [2, 3, 3, 12, 2, 2, 8, 6, 3, 3], [12, 2, 6, 2, 2, 2, 3, 4, 3, 2], 0.9, [21, 7, 5, 4, 5, 11, 2, 5, 2, 2], [5, 2, 3, 2, 2, 2, 2, 2, 9, 6], [4, 2, 4, 5, 5, 3, 2, 5, 4, 2], [8, 4, 2, 2, 2, 2, 2, 17, 2, 3], [5, 2, 10, 8, 2, 2, 5, 3, 2, 5], [24, 10, 2, 2, 7, 5, 2, 2, 3, 2], [9, 5, 5, 3, 2, 4, 3, 3, 2, 2], [6, 2, 3, 2, 4, 4, 2, 2, 3, 4], [5, 5, 3, 2, 3, 2, 5, 6, 6, 3], [5, 3, 2, 2, 2, 13, 8, 3, 10, 3], 1, [3, 4, 2, 2, 4, 2, 2, 3, 2, 2], [11, 8, 4, 2, 3, 10, 4, 5, 4, 4], [2, 5, 3, 2, 2, 2, 5, 2, 6, 6], [10, 5, 24, 4, 2, 24, 12, 21, 2, 2], [13, 7, 4, 3, 4, 5, 5, 6, 4, 4], [14, 7, 3, 2, 24, 3, 5, 3, 13, 9], [6, 6, 2, 4, 6, 2, 8, 2, 3, 5], [6, 5, 3, 2, 10, 2, 6, 2, 2, 2], [3, 2, 7, 2, 2, 3, 6, 3, 2, 4], [4, 6, 5, 6, 2, 4, 2, 3, 3, 5], 1.1, [4, 7, 2, 6, 20, 5, 2, 3, 5, 6], [10, 3, 11, 6, 4, 23, 6, 7, 9, 7], [7, 5, 2, 4, 2, 3, 5, 5, 4, 24], [5, 8, 6, 2, 2, 3, 2, 3, 3, 7], [6, 5, 19, 5, 3, 3, 3, 7, 4, 6], [3, 17, 2, 7, 8, 2, 2, 2, 3, 2], [3, 2, 2, 5, 2, 2, 5, 3, 3, 3], [2, 2, 2, 2, 7, 2, 5, 2, 18, 8], [14, 3, 3, 2, 5, 2, 2, 4, 2, 2], [3, 3, 2, 5, 3, 2, 10, 2, 3, 2], 1.2, [11, 6, 2, 3, 3, 2, 2, 3, 2, 2], [13, 9, 4, 2, 3, 13, 2, 6, 3, 3], [24, 5, 24, 11, 24, 9, 10, 6, 7, 5], [5, 2, 2, 2, 3, 2, 2, 3, 2, 2], [6, 5, 11, 9, 2, 8, 3, 2, 14, 3], [9, 3, 3, 3, 13, 2, 6, 2, 8, 10], [5, 5, 4, 9, 4, 2, 4, 2, 4, 3], [2, 4, 11, 2, 2, 2, 2, 5, 20, 7], [13, 3, 2, 3, 6, 4, 5, 3, 6, 2], [3, 6, 10, 2, 4, 2, 2, 3, 2, 3], 1.3, [24, 11, 2, 2, 24, 2, 24, 4, 5, 3], [4, 2, 2, 2, 3, 12, 5, 4, 2, 4], [13, 4, 2, 6, 2, 3, 2, 3, 7, 2], [6, 2, 2, 7, 6, 3, 2, 7, 5, 7], [2, 2, 7, 2, 2, 8, 4, 3, 2, 2], [3, 11, 3, 3, 6, 8, 2, 5, 3, 3], [7, 3, 11, 8, 12, 3, 6, 2, 4, 2], [16, 7, 2, 8, 4, 2, 7, 4, 2, 2], [3, 20, 2, 2, 3, 10, 2, 9, 2, 3], [2, 11, 4, 2, 2, 8, 3, 3, 5, 2], 1.4, [4, 2, 3, 6, 6, 3, 2, 5, 2, 2], [2, 8, 4, 3, 4, 2, 4, 18, 3, 3], [9, 2, 2, 14, 2, 5, 24, 2, 5, 2], [2, 4, 7, 12, 2, 9, 7, 3, 3, 2], [13, 2, 3, 14, 3, 5, 3, 2, 2, 2], [8, 7, 3, 3, 9, 5, 6, 5, 2, 2], [10, 2, 2, 3, 3, 2, 5, 7, 10, 2], [9, 2, 6, 6, 4, 8, 2, 2, 2, 5], [12, 12, 2, 9, 6, 2, 3, 6, 6, 3], [10, 4, 7, 9, 24, 5, 12, 10, 8, 2], 1.5, [2, 4, 8, 12, 2, 2, 12, 2, 4, 9], [24, 12, 15, 8, 4, 2, 2, 6, 4, 4], [5, 9, 3, 8, 22, 17, 8, 24, 7, 2], [24, 9, 4, 2, 4, 10, 16, 4, 18, 3], [10, 2, 3, 2, 4, 2, 3, 2, 9, 6], [24, 2, 2, 6, 21, 12, 2, 7, 4, 3], [2, 2, 6, 2, 12, 12, 5, 2, 2, 11], [4, 8, 4, 4, 3, 2, 4, 15, 5, 2], [2, 9, 3, 9, 10, 24, 2, 18, 13, 6], [11, 2, 5, 3, 2, 7, 4, 2, 4, 3], 1.5, [4, 9, 6, 9, 7, 2, 4, 21, 2, 2], [9, 3, 4, 3, 13, 2, 3, 3, 4, 5], [8, 2, 2, 2, 3, 5, 3, 3, 5, 6], [5, 3, 2, 2, 2, 2, 2, 3, 3, 5], [7, 9, 2, 24, 4, 2, 14, 24, 6, 4], [4, 3, 2, 4, 2, 2, 9, 3, 2, 4], [3, 2, 2, 8, 2, 3, 2, 7, 8, 2], [16, 21, 2, 7, 12, 6, 15, 10, 2, 3], [6, 5, 3, 6, 7, 8, 4, 8, 3, 4], [3, 7, 6, 10, 7, 3, 2, 3, 3, 4]]"
      ],
      "metadata": {
        "id": "AB0pvi4aQctG"
      },
      "execution_count": null,
      "outputs": []
    },
    {
      "cell_type": "markdown",
      "source": [
        "The results:\n",
        "\n",
        "* 0°: 7,22\n",
        "* 0,1°: 8,38\n",
        "* 0,2°: 5,58\n",
        "* 0,3°: 3,65\n",
        "* 0,4°: 4,53\n",
        "* 0,5°: 5,31\n",
        "* 0,6°: 5,70\n",
        "* 0,7°: 4,76\n",
        "* 0,8°: 5,42\n",
        "* 0,9°: 4,44\n",
        "* 1°: 5,55\n",
        "* 1,1°: 5,26\n",
        "* 1,2°: 6,13\n",
        "* 1,3°: 5,47\n",
        "* 1,4°: 5,87\n",
        "* 1,5°: 5,66"
      ],
      "metadata": {
        "id": "9NHw81DrhWUd"
      }
    },
    {
      "cell_type": "code",
      "source": [
        "temperatures = [0, 0.1, 0.2, 0.3, 0.4, 0.5, 0.6, 0.7, 0.8, 0.9, 1.0, 1.1, 1.2, 1.3, 1.4, 1.5]\n",
        "averages = [7.22, 8.38, 5.58, 3.65, 4.53, 5.31, 5.70, 4.76, 5.42, 4.44, 5.55, 5.26, 6.13, 5.47, 5.87, 5.66]"
      ],
      "metadata": {
        "id": "iYvZDQ-Xhr-h"
      },
      "execution_count": 3,
      "outputs": []
    },
    {
      "cell_type": "code",
      "source": [
        "import matplotlib.pyplot as plt\n",
        "\n",
        "plt.figure(figsize=(12, 6))\n",
        "plt.plot(temperatures, averages, marker='o')\n",
        "plt.title('Average Valzes per temperature')\n",
        "plt.xlabel('Temperature')\n",
        "plt.ylabel('Average Value')\n",
        "plt.grid(True)\n",
        "plt.show()"
      ],
      "metadata": {
        "colab": {
          "base_uri": "https://localhost:8080/",
          "height": 564
        },
        "id": "8L57ePD_hnyt",
        "outputId": "73f80d6a-d371-40c4-8340-4de498992131"
      },
      "execution_count": 4,
      "outputs": [
        {
          "output_type": "display_data",
          "data": {
            "text/plain": [
              "<Figure size 1200x600 with 1 Axes>"
            ],
            "image/png": "[encoded data removed]"
          },
          "metadata": {}
        }
      ]
    },
    {
      "cell_type": "markdown",
      "source": [
        "# Results Setup 4:\n",
        "\n",
        "We see a indicated U-curve with relative high values on the extremely low temperature. Most of the values are in the range between 4 and 6 turns which is moderately stable.\n",
        "\n",
        "The values <= 0,7 average on 5,76 turns,\n",
        "\n",
        "The values > 0,7 average on 5,60 turns.\n",
        "\n",
        "The model performs 2,8% better with temperatures <= 0,7 than the values > 0,7. This is below the 7,5% confidence threshold and can be attributed to chance.\n",
        "\n",
        "H0 gets accepted,\n",
        "\n",
        "H1 gets rejected.\n",
        "\n",
        "Find the summary of all experiments in Chapter 1."
      ],
      "metadata": {
        "id": "mGA6B7LMiQPX"
      }
    }
  ]
}